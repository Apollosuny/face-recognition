{
 "cells": [
  {
   "cell_type": "code",
   "execution_count": null,
   "metadata": {},
   "outputs": [],
   "source": [
    "# import packages\n",
    "import os\n",
    "import cv2\n",
    "import itertools\n",
    "import numpy as np\n",
    "import matplotlib.pyplot as plt\n",
    "\n",
    "from sklearn.preprocessing import LabelEncoder\n",
    "from sklearn.model_selection import train_test_split\n",
    "from sklearn.metrics import classification_report\n",
    "from sklearn.metrics import confusion_matrix\n",
    "import keras\n",
    "from keras.models import Sequential, Model\n",
    "\n",
    "from keras.utils import to_categorical\n",
    "from keras.layers import Conv2D, MaxPool2D, Flatten, Dense, Activation, Input"
   ]
  },
  {
   "cell_type": "code",
   "execution_count": null,
   "metadata": {},
   "outputs": [],
   "source": [
    "def detect_face(img):\n",
    "  # Load the pre-trained face detector from OpenCV\n",
    "  face_cascade = cv2.CascadeClassifier('../utils/haarcascade_frontalface_default.xml')\n",
    "  \n",
    "  # Convert the image to grayscale\n",
    "  gray = cv2.cvtColor(img, cv2.COLOR_BGR2GRAY)\n",
    "  \n",
    "  # Detect faces in the image\n",
    "  faces = face_cascade.detectMultiScale(gray, scaleFactor=1.1, minNeighbors=5, minSize=(30, 30))\n",
    "  \n",
    "  # If no faces are found, return None or a default value\n",
    "  if len(faces) == 0:\n",
    "      return None  # or return np.zeros((50, 50), dtype=np.uint8)\n",
    "  \n",
    "  # Assume we are only interested in the first detected face\n",
    "  x, y, w, h = faces[0]\n",
    "  \n",
    "  # Crop the face from the image\n",
    "  face = img[y:y+h, x:x+w]\n",
    "  \n",
    "  # Convert the face to grayscale\n",
    "  face_gray = cv2.cvtColor(face, cv2.COLOR_BGR2GRAY)\n",
    "  \n",
    "  # Resize the face to the desired size\n",
    "  face_resized = cv2.resize(face_gray, (50, 50))\n",
    "  \n",
    "  return face_resized"
   ]
  },
  {
   "cell_type": "code",
   "execution_count": null,
   "metadata": {},
   "outputs": [],
   "source": [
    "def print_progress(val, val_len, folder, bar_size=20):\n",
    "    progr = \"#\"*round((val)*bar_size/val_len) + \" \"*round((val_len - (val))*bar_size/val_len)\n",
    "    if val == 0:\n",
    "        print(\"\", end = \"\\n\")\n",
    "    else:\n",
    "        print(\"[%s] (%d samples)\\t label : %s \\t\\t\" % (progr, val+1, folder), end=\"\\r\")"
   ]
  },
  {
   "cell_type": "code",
   "execution_count": null,
   "metadata": {},
   "outputs": [],
   "source": [
    "dataset_folder = \"../../../dataset/data/\"\n",
    "\n",
    "names = []\n",
    "images = []\n",
    "for folder in os.listdir(dataset_folder):\n",
    "    files = os.listdir(os.path.join(dataset_folder, folder))[:150]\n",
    "    if len(files) < 50 :\n",
    "        continue\n",
    "    for i, name in enumerate(files): \n",
    "        if name.find(\".jpg\") > -1 :\n",
    "            img = cv2.imread(os.path.join(dataset_folder + folder, name))\n",
    "            img = detect_face(img) # detect face using mtcnn and crop to 100x100\n",
    "            if img is not None :\n",
    "                images.append(img)\n",
    "                names.append(folder)\n",
    "\n",
    "                print_progress(i, len(files), folder)"
   ]
  },
  {
   "cell_type": "code",
   "execution_count": null,
   "metadata": {},
   "outputs": [],
   "source": [
    "print(\"number of samples :\", len(names))"
   ]
  },
  {
   "cell_type": "code",
   "execution_count": null,
   "metadata": {},
   "outputs": [],
   "source": [
    "def img_augmentation(img):\n",
    "    h, w = img.shape\n",
    "    center = (w // 2, h // 2)\n",
    "    M_rot_5 = cv2.getRotationMatrix2D(center, 5, 1.0)\n",
    "    M_rot_neg_5 = cv2.getRotationMatrix2D(center, -5, 1.0)\n",
    "    M_rot_10 = cv2.getRotationMatrix2D(center, 10, 1.0)\n",
    "    M_rot_neg_10 = cv2.getRotationMatrix2D(center, -10, 1.0)\n",
    "    M_trans_3 = np.float32([[1, 0, 3], [0, 1, 0]])\n",
    "    M_trans_neg_3 = np.float32([[1, 0, -3], [0, 1, 0]])\n",
    "    M_trans_6 = np.float32([[1, 0, 6], [0, 1, 0]])\n",
    "    M_trans_neg_6 = np.float32([[1, 0, -6], [0, 1, 0]])\n",
    "    M_trans_y3 = np.float32([[1, 0, 0], [0, 1, 3]])\n",
    "    M_trans_neg_y3 = np.float32([[1, 0, 0], [0, 1, -3]])\n",
    "    M_trans_y6 = np.float32([[1, 0, 0], [0, 1, 6]])\n",
    "    M_trans_neg_y6 = np.float32([[1, 0, 0], [0, 1, -6]])\n",
    "    \n",
    "    imgs = []\n",
    "    imgs.append(cv2.warpAffine(img, M_rot_5, (w, h), borderValue=(255,255,255)))\n",
    "    imgs.append(cv2.warpAffine(img, M_rot_neg_5, (w, h), borderValue=(255,255,255)))\n",
    "    imgs.append(cv2.warpAffine(img, M_rot_10, (w, h), borderValue=(255,255,255)))\n",
    "    imgs.append(cv2.warpAffine(img, M_rot_neg_10, (w, h), borderValue=(255,255,255)))\n",
    "    imgs.append(cv2.warpAffine(img, M_trans_3, (w, h), borderValue=(255,255,255)))\n",
    "    imgs.append(cv2.warpAffine(img, M_trans_neg_3, (w, h), borderValue=(255,255,255)))\n",
    "    imgs.append(cv2.warpAffine(img, M_trans_6, (w, h), borderValue=(255,255,255)))\n",
    "    imgs.append(cv2.warpAffine(img, M_trans_neg_6, (w, h), borderValue=(255,255,255)))\n",
    "    imgs.append(cv2.warpAffine(img, M_trans_y3, (w, h), borderValue=(255,255,255)))\n",
    "    imgs.append(cv2.warpAffine(img, M_trans_neg_y3, (w, h), borderValue=(255,255,255)))\n",
    "    imgs.append(cv2.warpAffine(img, M_trans_y6, (w, h), borderValue=(255,255,255)))\n",
    "    imgs.append(cv2.warpAffine(img, M_trans_neg_y6, (w, h), borderValue=(255,255,255)))\n",
    "    imgs.append(cv2.add(img, 10))\n",
    "    imgs.append(cv2.add(img, 30))\n",
    "    imgs.append(cv2.add(img, -10))\n",
    "    imgs.append(cv2.add(img, -30)) \n",
    "    imgs.append(cv2.add(img, 15))\n",
    "    imgs.append(cv2.add(img, 45))\n",
    "    imgs.append(cv2.add(img, -15))\n",
    "    imgs.append(cv2.add(img, -45))\n",
    "    \n",
    "    return imgs"
   ]
  },
  {
   "cell_type": "code",
   "execution_count": null,
   "metadata": {},
   "outputs": [],
   "source": [
    "plt.imshow(images[0])"
   ]
  },
  {
   "cell_type": "code",
   "execution_count": null,
   "metadata": {},
   "outputs": [],
   "source": [
    "img_test = images[0]\n",
    "\n",
    "augmented_image_test = img_augmentation(img_test)\n",
    "\n",
    "plt.figure(figsize=(15,10))\n",
    "for i, img in enumerate(augmented_image_test):\n",
    "    plt.subplot(4,5,i+1)\n",
    "    plt.imshow(img, cmap=\"gray\")\n",
    "plt.show()"
   ]
  },
  {
   "cell_type": "code",
   "execution_count": null,
   "metadata": {},
   "outputs": [],
   "source": [
    "augmented_images = []\n",
    "augmented_names = []\n",
    "for i, img in enumerate(images):\n",
    "    try :\n",
    "        augmented_images.extend(img_augmentation(img))\n",
    "        augmented_names.extend([names[i]] * 20)\n",
    "    except :\n",
    "        print(i)"
   ]
  },
  {
   "cell_type": "code",
   "execution_count": null,
   "metadata": {},
   "outputs": [],
   "source": [
    "len(augmented_images), len(augmented_names)"
   ]
  },
  {
   "cell_type": "code",
   "execution_count": null,
   "metadata": {},
   "outputs": [],
   "source": [
    "images.extend(augmented_images)\n",
    "names.extend(augmented_names)"
   ]
  },
  {
   "cell_type": "code",
   "execution_count": null,
   "metadata": {},
   "outputs": [],
   "source": [
    "len(images), len(names)"
   ]
  },
  {
   "cell_type": "code",
   "execution_count": null,
   "metadata": {},
   "outputs": [],
   "source": [
    "unique, counts = np.unique(names, return_counts = True)\n",
    "\n",
    "for item in zip(unique, counts):\n",
    "    print(item)"
   ]
  },
  {
   "cell_type": "code",
   "execution_count": null,
   "metadata": {},
   "outputs": [],
   "source": [
    "# preview data distribution\n",
    "\n",
    "def print_data(label_distr, label_name):\n",
    "    plt.figure(figsize=(12,6))\n",
    "\n",
    "    my_circle = plt.Circle( (0,0), 0.7, color='white')\n",
    "    plt.pie(label_distr, labels=label_name, autopct='%1.1f%%')\n",
    "    plt.gcf().gca().add_artist(my_circle)\n",
    "    plt.show()\n",
    "    \n",
    "unique = np.unique(names)\n",
    "label_distr = {i:names.count(i) for i in names}.values()\n",
    "print_data(label_distr, unique)"
   ]
  },
  {
   "cell_type": "code",
   "execution_count": null,
   "metadata": {},
   "outputs": [],
   "source": [
    "# reduce sample size per-class using numpy random choice\n",
    "n = 1000\n",
    "\n",
    "def randc(labels, l):\n",
    "    return np.random.choice(np.where(np.array(labels) == l)[0], n, replace=False)\n",
    "\n",
    "mask = np.hstack([randc(names, l) for l in np.unique(names)])"
   ]
  },
  {
   "cell_type": "code",
   "execution_count": null,
   "metadata": {},
   "outputs": [],
   "source": [
    "names = [names[m] for m in mask]\n",
    "images = [images[m] for m in mask]"
   ]
  },
  {
   "cell_type": "code",
   "execution_count": null,
   "metadata": {},
   "outputs": [],
   "source": [
    "label_distr = {i:names.count(i) for i in names}.values()\n",
    "print_data(label_distr, unique)"
   ]
  },
  {
   "cell_type": "code",
   "execution_count": null,
   "metadata": {},
   "outputs": [],
   "source": [
    "len(names)"
   ]
  },
  {
   "cell_type": "code",
   "execution_count": null,
   "metadata": {},
   "outputs": [],
   "source": [
    "le = LabelEncoder()\n",
    "\n",
    "le.fit(names)\n",
    "\n",
    "labels = le.classes_\n",
    "\n",
    "name_vec = le.transform(names)\n",
    "\n",
    "categorical_name_vec = to_categorical(name_vec)"
   ]
  },
  {
   "cell_type": "code",
   "execution_count": null,
   "metadata": {},
   "outputs": [],
   "source": [
    "print(\"number of class :\", len(labels))\n",
    "print(labels)"
   ]
  },
  {
   "cell_type": "code",
   "execution_count": null,
   "metadata": {},
   "outputs": [],
   "source": [
    "print(name_vec)"
   ]
  },
  {
   "cell_type": "code",
   "execution_count": null,
   "metadata": {},
   "outputs": [],
   "source": [
    "print(categorical_name_vec)"
   ]
  },
  {
   "cell_type": "code",
   "execution_count": null,
   "metadata": {},
   "outputs": [],
   "source": [
    "x_train, x_test, y_train, y_test = train_test_split(np.array(images, dtype=np.float32),   # input data\n",
    "                                                    np.array(categorical_name_vec),       # target/output data \n",
    "                                                    test_size=0.15, \n",
    "                                                    random_state=42)"
   ]
  },
  {
   "cell_type": "code",
   "execution_count": null,
   "metadata": {},
   "outputs": [],
   "source": [
    "print(x_train.shape, y_train.shape, x_test.shape,  y_test.shape)"
   ]
  },
  {
   "cell_type": "code",
   "execution_count": null,
   "metadata": {},
   "outputs": [],
   "source": [
    "x_train = x_train.reshape(x_train.shape[0], x_train.shape[1], x_train.shape[2], 1)\n",
    "x_test = x_test.reshape(x_test.shape[0], x_test.shape[1], x_test.shape[2], 1)"
   ]
  },
  {
   "cell_type": "code",
   "execution_count": null,
   "metadata": {},
   "outputs": [],
   "source": [
    "x_train.shape, x_test.shape"
   ]
  },
  {
   "cell_type": "code",
   "execution_count": null,
   "metadata": {},
   "outputs": [],
   "source": [
    "def cnn_model(input_shape):  \n",
    "    model = Sequential()\n",
    "    \n",
    "    model.add(Conv2D(64,\n",
    "                    (3,3),\n",
    "                    padding=\"valid\",\n",
    "                    activation=\"relu\",\n",
    "                    input_shape=input_shape))\n",
    "    model.add(Conv2D(64,\n",
    "                    (3,3),\n",
    "                    padding=\"valid\",\n",
    "                    activation=\"relu\",\n",
    "                    input_shape=input_shape))\n",
    "    \n",
    "    model.add(MaxPool2D(pool_size=(2, 2)))\n",
    "    \n",
    "    model.add(Conv2D(128,\n",
    "                    (3,3),\n",
    "                    padding=\"valid\",\n",
    "                    activation=\"relu\"))\n",
    "    model.add(Conv2D(128,\n",
    "                    (3,3),\n",
    "                    padding=\"valid\",\n",
    "                    activation=\"relu\"))\n",
    "    model.add(MaxPool2D(pool_size=(2, 2)))\n",
    "    \n",
    "    model.add(Flatten())\n",
    "    \n",
    "    model.add(Dense(128, activation=\"relu\"))\n",
    "    model.add(Dense(64, activation=\"relu\"))\n",
    "    model.add(Dense(len(labels)))  # equal to number of classes\n",
    "    model.add(Activation(\"softmax\"))\n",
    "    \n",
    "    model.summary() \n",
    "    \n",
    "    model.compile(optimizer='adam', \n",
    "                  loss='categorical_crossentropy',\n",
    "                  metrics = ['accuracy'])\n",
    "\n",
    "    return model"
   ]
  },
  {
   "cell_type": "code",
   "execution_count": null,
   "metadata": {},
   "outputs": [],
   "source": [
    "input_shape = x_train[0].shape\n",
    "\n",
    "EPOCHS = 10\n",
    "BATCH_SIZE = 32\n",
    "\n",
    "model = cnn_model(input_shape)\n",
    "\n",
    "history = model.fit(x_train, \n",
    "                    y_train,\n",
    "                    epochs=EPOCHS,\n",
    "                    batch_size=BATCH_SIZE,\n",
    "                    shuffle=True,\n",
    "                    validation_split=0.15   # 15% of train dataset will be used as validation set\n",
    "                    )"
   ]
  },
  {
   "cell_type": "code",
   "execution_count": null,
   "metadata": {},
   "outputs": [],
   "source": [
    "history.history.keys()"
   ]
  },
  {
   "cell_type": "code",
   "execution_count": null,
   "metadata": {},
   "outputs": [],
   "source": [
    "def evaluate_model_(history):\n",
    "    names = [['accuracy', 'val_accuracy'], \n",
    "             ['loss', 'val_loss']]\n",
    "    for name in names:\n",
    "        fig, ax = plt.subplots()\n",
    "        ax.plot(history.history[name[0]])\n",
    "        ax.plot(history.history[name[1]])\n",
    "        ax.set(xlabel='Epoch', ylabel=name[0])\n",
    "        ax.set_title('Model - ' + name[0])\n",
    "        ax.legend(['Training', 'Validation'], loc='lower right')\n",
    "        ax.grid()\n",
    "        plt.show()\n",
    "\n",
    "evaluate_model_(history)"
   ]
  },
  {
   "cell_type": "code",
   "execution_count": null,
   "metadata": {},
   "outputs": [],
   "source": [
    "model.save(\"20240606-model.h5\")"
   ]
  },
  {
   "cell_type": "code",
   "execution_count": null,
   "metadata": {},
   "outputs": [],
   "source": [
    "# predict test data\n",
    "y_pred=model.predict(x_test)"
   ]
  },
  {
   "cell_type": "code",
   "execution_count": null,
   "metadata": {},
   "outputs": [],
   "source": [
    "def plot_confusion_matrix(cm, classes,\n",
    "                          normalize=False,\n",
    "                          title='Confusion matrix',\n",
    "                          cmap=plt.cm.Blues):\n",
    "    if normalize:\n",
    "        cm = cm.astype('float') / cm.sum(axis=1)[:, np.newaxis]\n",
    "\n",
    "    plt.figure(figsize=(8, 8))\n",
    "    \n",
    "    plt.imshow(cm, interpolation='nearest', cmap=cmap)\n",
    "    plt.title(title)\n",
    "    plt.colorbar()\n",
    "    \n",
    "    tick_marks = np.arange(len(classes))\n",
    "    plt.xticks(tick_marks, classes, rotation=45)\n",
    "    plt.yticks(tick_marks, classes)\n",
    "\n",
    "    fmt = '.2f' if normalize else 'd'\n",
    "    thresh = cm.max() / 2.\n",
    "    for i, j in itertools.product(range(cm.shape[0]), range(cm.shape[1])):\n",
    "        plt.text(j, i, format(cm[i, j], fmt),\n",
    "                 horizontalalignment=\"center\",\n",
    "                 color=\"white\" if cm[i, j] > thresh else \"black\")\n",
    "\n",
    "    plt.tight_layout()\n",
    "    plt.ylabel('True label')\n",
    "    plt.xlabel('Predicted label')\n",
    "    plt.show()"
   ]
  },
  {
   "cell_type": "code",
   "execution_count": null,
   "metadata": {},
   "outputs": [],
   "source": [
    "# Compute confusion matrix\n",
    "cnf_matrix = confusion_matrix(y_test.argmax(axis=1), y_pred.argmax(axis=1))\n",
    "np.set_printoptions(precision=2)\n",
    "\n",
    "\n",
    "# Plot non-normalized confusion matrix\n",
    "plot_confusion_matrix(cnf_matrix, classes=labels,normalize=False,\n",
    "                      title='Confusion matrix')"
   ]
  },
  {
   "cell_type": "code",
   "execution_count": null,
   "metadata": {},
   "outputs": [],
   "source": [
    "print(classification_report(y_test.argmax(axis=1), \n",
    "                            y_pred.argmax(axis=1), \n",
    "                            target_names=labels))"
   ]
  },
  {
   "cell_type": "code",
   "execution_count": null,
   "metadata": {},
   "outputs": [],
   "source": [
    "def draw_ped(img, label, x0, y0, xt, yt, color=(255,127,0), text_color=(255,255,255)):\n",
    "\n",
    "    (w, h), baseline = cv2.getTextSize(label, cv2.FONT_HERSHEY_SIMPLEX, 0.5, 1)\n",
    "    cv2.rectangle(img,\n",
    "                  (x0, y0 + baseline),  \n",
    "                  (max(xt, x0 + w), yt), \n",
    "                  color, \n",
    "                  2)\n",
    "    cv2.rectangle(img,\n",
    "                  (x0, y0 - h),  \n",
    "                  (x0 + w, y0 + baseline), \n",
    "                  color, \n",
    "                  -1)  \n",
    "    cv2.putText(img, \n",
    "                label, \n",
    "                (x0, y0),                   \n",
    "                cv2.FONT_HERSHEY_SIMPLEX,     \n",
    "                0.5,                          \n",
    "                text_color,                \n",
    "                1,\n",
    "                cv2.LINE_AA) \n",
    "    return img"
   ]
  },
  {
   "cell_type": "code",
   "execution_count": null,
   "metadata": {},
   "outputs": [],
   "source": [
    "from keras.models import load_model"
   ]
  },
  {
   "cell_type": "code",
   "execution_count": null,
   "metadata": {},
   "outputs": [],
   "source": [
    "# --------- load Haar Cascade model -------------\n",
    "face_cascade = cv2.CascadeClassifier('../utils/haarcascade_frontalface_default.xml')\n",
    "\n",
    "# --------- load Keras CNN model -------------\n",
    "model = load_model(\"20240606-model.h5\")\n",
    "print(\"[INFO] finish load model...\")\n",
    "\n",
    "cap = cv2.VideoCapture(0)\n",
    "while cap.isOpened() :\n",
    "    ret, frame = cap.read()\n",
    "    if ret:\n",
    "        gray = cv2.cvtColor(frame, cv2.COLOR_BGR2GRAY)\n",
    "        faces = face_cascade.detectMultiScale(gray, 1.1, 5)\n",
    "        for (x, y, w, h) in faces:\n",
    "            \n",
    "            face_img = gray[y:y+h, x:x+w]\n",
    "            face_img = cv2.resize(face_img, (50, 50))\n",
    "            face_img = face_img.reshape(1, 50, 50, 1)\n",
    "            \n",
    "            result = model.predict(face_img)\n",
    "            idx = result.argmax(axis=1)\n",
    "            confidence = result.max(axis=1)*100\n",
    "            if confidence > 80:\n",
    "                label_text = \"%s (%.2f %%)\" % (labels[idx], confidence)\n",
    "            else :\n",
    "                label_text = \"N/A\"\n",
    "            frame = draw_ped(frame, label_text, x, y, x + w, y + h, color=(0,255,255), text_color=(50,50,50))\n",
    "       \n",
    "        cv2.imshow('Detect Face', frame)\n",
    "    else :\n",
    "        break\n",
    "    if cv2.waitKey(10) == ord('q'):\n",
    "        break\n",
    "        \n",
    "cv2.destroyAllWindows()\n",
    "cap.release()"
   ]
  }
 ],
 "metadata": {
  "kernelspec": {
   "display_name": ".venv",
   "language": "python",
   "name": "python3"
  },
  "language_info": {
   "codemirror_mode": {
    "name": "ipython",
    "version": 3
   },
   "file_extension": ".py",
   "mimetype": "text/x-python",
   "name": "python",
   "nbconvert_exporter": "python",
   "pygments_lexer": "ipython3",
   "version": "3.9.13"
  }
 },
 "nbformat": 4,
 "nbformat_minor": 2
}
